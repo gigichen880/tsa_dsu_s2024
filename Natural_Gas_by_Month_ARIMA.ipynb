{
 "cells": [
  {
   "cell_type": "markdown",
   "id": "8179a1ac-25df-40ca-828c-20f06d33679b",
   "metadata": {},
   "source": [
    "## Natural Gas ARIMA Model"
   ]
  },
  {
   "cell_type": "code",
   "execution_count": 1,
   "id": "cac43af5-6160-47c3-9805-5a1c8719695a",
   "metadata": {},
   "outputs": [],
   "source": [
    "import numpy as np\n",
    "import pandas as pd\n",
    "import datetime as dt\n",
    "import matplotlib.pyplot as plt\n",
    "\n",
    "from statsmodels.tsa.stattools import adfuller\n",
    "from statsmodels.tsa.stattools import acf, pacf\n",
    "from statsmodels.tsa.arima.model import ARIMA"
   ]
  },
  {
   "cell_type": "markdown",
   "id": "6204f6a4-7a4c-4360-95fa-67c20e92312d",
   "metadata": {},
   "source": [
    "### Data Preprocessing"
   ]
  },
  {
   "cell_type": "code",
   "execution_count": 2,
   "id": "36875b33-d239-4b67-b840-9e09cbdbb51a",
   "metadata": {},
   "outputs": [],
   "source": [
    "df = pd.read_csv('pricedata.csv')"
   ]
  },
  {
   "cell_type": "code",
   "execution_count": 3,
   "id": "60d75744-4c28-415d-84a9-959cab7cc13d",
   "metadata": {},
   "outputs": [
    {
     "data": {
      "text/html": [
       "<div>\n",
       "<style scoped>\n",
       "    .dataframe tbody tr th:only-of-type {\n",
       "        vertical-align: middle;\n",
       "    }\n",
       "\n",
       "    .dataframe tbody tr th {\n",
       "        vertical-align: top;\n",
       "    }\n",
       "\n",
       "    .dataframe thead th {\n",
       "        text-align: right;\n",
       "    }\n",
       "</style>\n",
       "<table border=\"1\" class=\"dataframe\">\n",
       "  <thead>\n",
       "    <tr style=\"text-align: right;\">\n",
       "      <th></th>\n",
       "      <th>Symbol</th>\n",
       "      <th>Date</th>\n",
       "      <th>Open</th>\n",
       "      <th>High</th>\n",
       "      <th>Low</th>\n",
       "      <th>Close</th>\n",
       "      <th>Volume</th>\n",
       "      <th>Currency</th>\n",
       "    </tr>\n",
       "  </thead>\n",
       "  <tbody>\n",
       "    <tr>\n",
       "      <th>0</th>\n",
       "      <td>Brent Oil</td>\n",
       "      <td>1/4/2000</td>\n",
       "      <td>23.90</td>\n",
       "      <td>24.70</td>\n",
       "      <td>23.89</td>\n",
       "      <td>24.39</td>\n",
       "      <td>32509</td>\n",
       "      <td>USD</td>\n",
       "    </tr>\n",
       "    <tr>\n",
       "      <th>1</th>\n",
       "      <td>Brent Oil</td>\n",
       "      <td>1/5/2000</td>\n",
       "      <td>24.25</td>\n",
       "      <td>24.37</td>\n",
       "      <td>23.70</td>\n",
       "      <td>23.73</td>\n",
       "      <td>30310</td>\n",
       "      <td>USD</td>\n",
       "    </tr>\n",
       "    <tr>\n",
       "      <th>2</th>\n",
       "      <td>Brent Oil</td>\n",
       "      <td>1/6/2000</td>\n",
       "      <td>23.55</td>\n",
       "      <td>24.22</td>\n",
       "      <td>23.35</td>\n",
       "      <td>23.62</td>\n",
       "      <td>44662</td>\n",
       "      <td>USD</td>\n",
       "    </tr>\n",
       "    <tr>\n",
       "      <th>3</th>\n",
       "      <td>Brent Oil</td>\n",
       "      <td>1/7/2000</td>\n",
       "      <td>23.57</td>\n",
       "      <td>23.98</td>\n",
       "      <td>23.05</td>\n",
       "      <td>23.09</td>\n",
       "      <td>34826</td>\n",
       "      <td>USD</td>\n",
       "    </tr>\n",
       "    <tr>\n",
       "      <th>4</th>\n",
       "      <td>Brent Oil</td>\n",
       "      <td>1/10/2000</td>\n",
       "      <td>23.04</td>\n",
       "      <td>23.78</td>\n",
       "      <td>23.04</td>\n",
       "      <td>23.73</td>\n",
       "      <td>26388</td>\n",
       "      <td>USD</td>\n",
       "    </tr>\n",
       "  </tbody>\n",
       "</table>\n",
       "</div>"
      ],
      "text/plain": [
       "      Symbol       Date   Open   High    Low  Close  Volume Currency\n",
       "0  Brent Oil   1/4/2000  23.90  24.70  23.89  24.39   32509      USD\n",
       "1  Brent Oil   1/5/2000  24.25  24.37  23.70  23.73   30310      USD\n",
       "2  Brent Oil   1/6/2000  23.55  24.22  23.35  23.62   44662      USD\n",
       "3  Brent Oil   1/7/2000  23.57  23.98  23.05  23.09   34826      USD\n",
       "4  Brent Oil  1/10/2000  23.04  23.78  23.04  23.73   26388      USD"
      ]
     },
     "execution_count": 3,
     "metadata": {},
     "output_type": "execute_result"
    }
   ],
   "source": [
    "df.head()"
   ]
  },
  {
   "cell_type": "code",
   "execution_count": 4,
   "id": "cc5b2fb6-496f-4cb6-867e-d77097a48c05",
   "metadata": {},
   "outputs": [],
   "source": [
    "# There are four different kinds of oil in this dataset, but I only care about Natural Gas\n",
    "df = df[df['Symbol'] == 'Natural Gas'].reset_index(drop = True)"
   ]
  },
  {
   "cell_type": "code",
   "execution_count": 5,
   "id": "d97233c5-f588-41e3-804d-f67d270233ff",
   "metadata": {},
   "outputs": [],
   "source": [
    "df['Date'] = [dt.datetime.strptime(date_str, '%m/%d/%Y').date() for date_str in df['Date']]"
   ]
  },
  {
   "cell_type": "code",
   "execution_count": 6,
   "id": "da01f070-4e66-45b0-b5fc-263ac31b5931",
   "metadata": {},
   "outputs": [
    {
     "data": {
      "text/html": [
       "<div>\n",
       "<style scoped>\n",
       "    .dataframe tbody tr th:only-of-type {\n",
       "        vertical-align: middle;\n",
       "    }\n",
       "\n",
       "    .dataframe tbody tr th {\n",
       "        vertical-align: top;\n",
       "    }\n",
       "\n",
       "    .dataframe thead th {\n",
       "        text-align: right;\n",
       "    }\n",
       "</style>\n",
       "<table border=\"1\" class=\"dataframe\">\n",
       "  <thead>\n",
       "    <tr style=\"text-align: right;\">\n",
       "      <th></th>\n",
       "      <th>Symbol</th>\n",
       "      <th>Date</th>\n",
       "      <th>Open</th>\n",
       "      <th>High</th>\n",
       "      <th>Low</th>\n",
       "      <th>Close</th>\n",
       "      <th>Volume</th>\n",
       "      <th>Currency</th>\n",
       "    </tr>\n",
       "  </thead>\n",
       "  <tbody>\n",
       "    <tr>\n",
       "      <th>0</th>\n",
       "      <td>Natural Gas</td>\n",
       "      <td>2000-01-04</td>\n",
       "      <td>2.130</td>\n",
       "      <td>2.200</td>\n",
       "      <td>2.130</td>\n",
       "      <td>2.176</td>\n",
       "      <td>30152</td>\n",
       "      <td>USD</td>\n",
       "    </tr>\n",
       "    <tr>\n",
       "      <th>1</th>\n",
       "      <td>Natural Gas</td>\n",
       "      <td>2000-01-05</td>\n",
       "      <td>2.180</td>\n",
       "      <td>2.200</td>\n",
       "      <td>2.125</td>\n",
       "      <td>2.168</td>\n",
       "      <td>27946</td>\n",
       "      <td>USD</td>\n",
       "    </tr>\n",
       "    <tr>\n",
       "      <th>2</th>\n",
       "      <td>Natural Gas</td>\n",
       "      <td>2000-01-06</td>\n",
       "      <td>2.165</td>\n",
       "      <td>2.220</td>\n",
       "      <td>2.135</td>\n",
       "      <td>2.196</td>\n",
       "      <td>29071</td>\n",
       "      <td>USD</td>\n",
       "    </tr>\n",
       "    <tr>\n",
       "      <th>3</th>\n",
       "      <td>Natural Gas</td>\n",
       "      <td>2000-01-07</td>\n",
       "      <td>2.195</td>\n",
       "      <td>2.230</td>\n",
       "      <td>2.155</td>\n",
       "      <td>2.173</td>\n",
       "      <td>28455</td>\n",
       "      <td>USD</td>\n",
       "    </tr>\n",
       "    <tr>\n",
       "      <th>4</th>\n",
       "      <td>Natural Gas</td>\n",
       "      <td>2000-01-10</td>\n",
       "      <td>2.180</td>\n",
       "      <td>2.255</td>\n",
       "      <td>2.165</td>\n",
       "      <td>2.216</td>\n",
       "      <td>28916</td>\n",
       "      <td>USD</td>\n",
       "    </tr>\n",
       "  </tbody>\n",
       "</table>\n",
       "</div>"
      ],
      "text/plain": [
       "        Symbol        Date   Open   High    Low  Close  Volume Currency\n",
       "0  Natural Gas  2000-01-04  2.130  2.200  2.130  2.176   30152      USD\n",
       "1  Natural Gas  2000-01-05  2.180  2.200  2.125  2.168   27946      USD\n",
       "2  Natural Gas  2000-01-06  2.165  2.220  2.135  2.196   29071      USD\n",
       "3  Natural Gas  2000-01-07  2.195  2.230  2.155  2.173   28455      USD\n",
       "4  Natural Gas  2000-01-10  2.180  2.255  2.165  2.216   28916      USD"
      ]
     },
     "execution_count": 6,
     "metadata": {},
     "output_type": "execute_result"
    }
   ],
   "source": [
    "df.head()"
   ]
  },
  {
   "cell_type": "code",
   "execution_count": 7,
   "id": "ccaffb6d-e370-4917-bc5b-25d7df868e62",
   "metadata": {},
   "outputs": [],
   "source": [
    "df.set_index(df['Date'], inplace = True)"
   ]
  },
  {
   "cell_type": "code",
   "execution_count": 9,
   "id": "e1fac360-3dda-4e12-9a1a-9489692b29d2",
   "metadata": {},
   "outputs": [],
   "source": [
    "df['Year'] = [day.year for day in df['Date']]"
   ]
  },
  {
   "cell_type": "code",
   "execution_count": 8,
   "id": "2a86e90f-7d98-4654-a74e-9fba92788d0d",
   "metadata": {},
   "outputs": [],
   "source": [
    "df['Month'] = [day.month for day in df['Date']]"
   ]
  },
  {
   "cell_type": "code",
   "execution_count": 10,
   "id": "8d46ec84-7e99-43bf-84ec-7882f3893783",
   "metadata": {},
   "outputs": [
    {
     "data": {
      "text/html": [
       "<div>\n",
       "<style scoped>\n",
       "    .dataframe tbody tr th:only-of-type {\n",
       "        vertical-align: middle;\n",
       "    }\n",
       "\n",
       "    .dataframe tbody tr th {\n",
       "        vertical-align: top;\n",
       "    }\n",
       "\n",
       "    .dataframe thead th {\n",
       "        text-align: right;\n",
       "    }\n",
       "</style>\n",
       "<table border=\"1\" class=\"dataframe\">\n",
       "  <thead>\n",
       "    <tr style=\"text-align: right;\">\n",
       "      <th></th>\n",
       "      <th>Symbol</th>\n",
       "      <th>Date</th>\n",
       "      <th>Open</th>\n",
       "      <th>High</th>\n",
       "      <th>Low</th>\n",
       "      <th>Close</th>\n",
       "      <th>Volume</th>\n",
       "      <th>Currency</th>\n",
       "      <th>Month</th>\n",
       "      <th>Year</th>\n",
       "    </tr>\n",
       "    <tr>\n",
       "      <th>Date</th>\n",
       "      <th></th>\n",
       "      <th></th>\n",
       "      <th></th>\n",
       "      <th></th>\n",
       "      <th></th>\n",
       "      <th></th>\n",
       "      <th></th>\n",
       "      <th></th>\n",
       "      <th></th>\n",
       "      <th></th>\n",
       "    </tr>\n",
       "  </thead>\n",
       "  <tbody>\n",
       "    <tr>\n",
       "      <th>2000-01-04</th>\n",
       "      <td>Natural Gas</td>\n",
       "      <td>2000-01-04</td>\n",
       "      <td>2.130</td>\n",
       "      <td>2.200</td>\n",
       "      <td>2.130</td>\n",
       "      <td>2.176</td>\n",
       "      <td>30152</td>\n",
       "      <td>USD</td>\n",
       "      <td>1</td>\n",
       "      <td>2000</td>\n",
       "    </tr>\n",
       "    <tr>\n",
       "      <th>2000-01-05</th>\n",
       "      <td>Natural Gas</td>\n",
       "      <td>2000-01-05</td>\n",
       "      <td>2.180</td>\n",
       "      <td>2.200</td>\n",
       "      <td>2.125</td>\n",
       "      <td>2.168</td>\n",
       "      <td>27946</td>\n",
       "      <td>USD</td>\n",
       "      <td>1</td>\n",
       "      <td>2000</td>\n",
       "    </tr>\n",
       "    <tr>\n",
       "      <th>2000-01-06</th>\n",
       "      <td>Natural Gas</td>\n",
       "      <td>2000-01-06</td>\n",
       "      <td>2.165</td>\n",
       "      <td>2.220</td>\n",
       "      <td>2.135</td>\n",
       "      <td>2.196</td>\n",
       "      <td>29071</td>\n",
       "      <td>USD</td>\n",
       "      <td>1</td>\n",
       "      <td>2000</td>\n",
       "    </tr>\n",
       "    <tr>\n",
       "      <th>2000-01-07</th>\n",
       "      <td>Natural Gas</td>\n",
       "      <td>2000-01-07</td>\n",
       "      <td>2.195</td>\n",
       "      <td>2.230</td>\n",
       "      <td>2.155</td>\n",
       "      <td>2.173</td>\n",
       "      <td>28455</td>\n",
       "      <td>USD</td>\n",
       "      <td>1</td>\n",
       "      <td>2000</td>\n",
       "    </tr>\n",
       "    <tr>\n",
       "      <th>2000-01-10</th>\n",
       "      <td>Natural Gas</td>\n",
       "      <td>2000-01-10</td>\n",
       "      <td>2.180</td>\n",
       "      <td>2.255</td>\n",
       "      <td>2.165</td>\n",
       "      <td>2.216</td>\n",
       "      <td>28916</td>\n",
       "      <td>USD</td>\n",
       "      <td>1</td>\n",
       "      <td>2000</td>\n",
       "    </tr>\n",
       "  </tbody>\n",
       "</table>\n",
       "</div>"
      ],
      "text/plain": [
       "                 Symbol        Date   Open   High    Low  Close  Volume  \\\n",
       "Date                                                                      \n",
       "2000-01-04  Natural Gas  2000-01-04  2.130  2.200  2.130  2.176   30152   \n",
       "2000-01-05  Natural Gas  2000-01-05  2.180  2.200  2.125  2.168   27946   \n",
       "2000-01-06  Natural Gas  2000-01-06  2.165  2.220  2.135  2.196   29071   \n",
       "2000-01-07  Natural Gas  2000-01-07  2.195  2.230  2.155  2.173   28455   \n",
       "2000-01-10  Natural Gas  2000-01-10  2.180  2.255  2.165  2.216   28916   \n",
       "\n",
       "           Currency  Month  Year  \n",
       "Date                              \n",
       "2000-01-04      USD      1  2000  \n",
       "2000-01-05      USD      1  2000  \n",
       "2000-01-06      USD      1  2000  \n",
       "2000-01-07      USD      1  2000  \n",
       "2000-01-10      USD      1  2000  "
      ]
     },
     "execution_count": 10,
     "metadata": {},
     "output_type": "execute_result"
    }
   ],
   "source": [
    "df.head()"
   ]
  },
  {
   "cell_type": "code",
   "execution_count": 13,
   "id": "3809cf94-0e3d-427c-88fd-e078a2e588c2",
   "metadata": {},
   "outputs": [],
   "source": [
    "close = df.groupby(by = ['Year', 'Month'])['Close'].mean().reset_index()"
   ]
  },
  {
   "cell_type": "code",
   "execution_count": 18,
   "id": "31c206cb-8fc2-45c4-b28f-ede1e8b50e26",
   "metadata": {},
   "outputs": [],
   "source": [
    "years, months = df[['Year', 'Month']]"
   ]
  },
  {
   "cell_type": "code",
   "execution_count": 25,
   "id": "04f7a012-11ed-43e5-b365-d28e60d62a24",
   "metadata": {},
   "outputs": [],
   "source": [
    "close.set_index(pd.Index([dt.datetime(year, month, 1).date() for (year, month) in zip(close['Year'], close['Month'])]), inplace = True)"
   ]
  },
  {
   "cell_type": "code",
   "execution_count": 28,
   "id": "2a8e7bba-240f-4af2-9226-faaa30a7e0de",
   "metadata": {},
   "outputs": [],
   "source": [
    "close.drop(columns = ['Year', 'Month'], inplace = True)"
   ]
  },
  {
   "cell_type": "code",
   "execution_count": 31,
   "id": "d3c7caf3-a058-4010-bfa3-846393d4363d",
   "metadata": {},
   "outputs": [
    {
     "data": {
      "text/html": [
       "<div>\n",
       "<style scoped>\n",
       "    .dataframe tbody tr th:only-of-type {\n",
       "        vertical-align: middle;\n",
       "    }\n",
       "\n",
       "    .dataframe tbody tr th {\n",
       "        vertical-align: top;\n",
       "    }\n",
       "\n",
       "    .dataframe thead th {\n",
       "        text-align: right;\n",
       "    }\n",
       "</style>\n",
       "<table border=\"1\" class=\"dataframe\">\n",
       "  <thead>\n",
       "    <tr style=\"text-align: right;\">\n",
       "      <th></th>\n",
       "      <th>Close</th>\n",
       "    </tr>\n",
       "  </thead>\n",
       "  <tbody>\n",
       "    <tr>\n",
       "      <th>2000-01-01</th>\n",
       "      <td>2.385368</td>\n",
       "    </tr>\n",
       "    <tr>\n",
       "      <th>2000-02-01</th>\n",
       "      <td>2.614250</td>\n",
       "    </tr>\n",
       "    <tr>\n",
       "      <th>2000-03-01</th>\n",
       "      <td>2.828261</td>\n",
       "    </tr>\n",
       "    <tr>\n",
       "      <th>2000-04-01</th>\n",
       "      <td>3.028842</td>\n",
       "    </tr>\n",
       "    <tr>\n",
       "      <th>2000-05-01</th>\n",
       "      <td>3.596409</td>\n",
       "    </tr>\n",
       "  </tbody>\n",
       "</table>\n",
       "</div>"
      ],
      "text/plain": [
       "               Close\n",
       "2000-01-01  2.385368\n",
       "2000-02-01  2.614250\n",
       "2000-03-01  2.828261\n",
       "2000-04-01  3.028842\n",
       "2000-05-01  3.596409"
      ]
     },
     "execution_count": 31,
     "metadata": {},
     "output_type": "execute_result"
    }
   ],
   "source": [
    "close.head()"
   ]
  },
  {
   "cell_type": "markdown",
   "id": "933c1f99-bc2e-4f04-8ae4-4c3b890d154a",
   "metadata": {},
   "source": [
    "We can use either the opening or closing price of the stock (there is no significant difference). Our team arbitrarily chose to train our models on the daily closing price of the stock."
   ]
  },
  {
   "cell_type": "markdown",
   "id": "a96e6933-8cb3-4dc7-8b46-28dcef54fa45",
   "metadata": {},
   "source": [
    "### Check for Stationarity"
   ]
  },
  {
   "cell_type": "code",
   "execution_count": 32,
   "id": "f8377d95-a0b3-4e7a-b327-30b593644fbe",
   "metadata": {},
   "outputs": [],
   "source": [
    "close = close['Close']"
   ]
  },
  {
   "cell_type": "code",
   "execution_count": 34,
   "id": "deb0ea91-2951-4248-a499-2136a6a49a04",
   "metadata": {},
   "outputs": [
    {
     "data": {
      "image/png": "[encoded data removed]",
      "text/plain": [
       "<Figure size 640x480 with 1 Axes>"
      ]
     },
     "metadata": {},
     "output_type": "display_data"
    }
   ],
   "source": [
    "plt.plot(close)\n",
    "plt.title('Closing Price')\n",
    "for year in range(2000, 2024):\n",
    "    plt.axvline(pd.to_datetime(str(year) + '-01-01'), linestyle = '--', alpha = 0.2)\n",
    "\n",
    "plt.show()"
   ]
  },
  {
   "cell_type": "markdown",
   "id": "5b819127-2855-44c7-8568-b6a8bd96d134",
   "metadata": {},
   "source": [
    "In order to train an ARIMA model, our data must be stationary. We must satisfy 3 requirements to consider our data to be stationary:\n",
    "\n",
    "1. Constant mean: Our data does not satisfy this; it looks like the mean before 2009 is about 6 while the mean after 2009 is about 4\n",
    "2. Constant variance: Our data seems to satisfy this requirement, aside from a very random events (sudden spikes or drops in the data)\n",
    "3. No seasonality: This one seems to be satistfied. Although the price exhibits oscillatory behavior between 2011 and 2020, it does not seem to be related to the time of year\n",
    "\n",
    "We can also perform the Augmented Dickey-Fuller test, which mathematically determines if a dataset is stationary."
   ]
  },
  {
   "cell_type": "code",
   "execution_count": 35,
   "id": "87c472aa-c884-4304-9dcb-4e1356b4dfe6",
   "metadata": {},
   "outputs": [
    {
     "name": "stdout",
     "output_type": "stream",
     "text": [
      "ADF Statistic: -2.098913780232343\n",
      "p-value: 0.2449516002024259\n"
     ]
    }
   ],
   "source": [
    "ad_fuller_test = adfuller(close)\n",
    "print(f\"ADF Statistic: {ad_fuller_test[0]}\")\n",
    "print(f\"p-value: {ad_fuller_test[1]}\")"
   ]
  },
  {
   "cell_type": "markdown",
   "id": "57ba3d15-70f5-49c3-bbdf-a46191a4fc38",
   "metadata": {},
   "source": [
    "As you can see from the ADF test above, we do not have statistical evidence that our data is stationary. This makes sense because when we look at the graph of closing price above, we see a decrease in the mean from before 2009 compared with after 2009.\n",
    "\n",
    "In conclusion, our data is not currently stationary. We will try to fix this by taking the first difference and checking this for stationarity."
   ]
  },
  {
   "cell_type": "code",
   "execution_count": 44,
   "id": "c5592f4e-d744-4766-91c1-e6b13acb50c8",
   "metadata": {},
   "outputs": [
    {
     "data": {
      "text/plain": [
       "2000-02-01    0.228882\n",
       "2000-03-01    0.214011\n",
       "2000-04-01    0.200581\n",
       "2000-05-01    0.567567\n",
       "2000-06-01    0.707000\n",
       "                ...   \n",
       "2022-02-01    0.310139\n",
       "2022-03-01    0.499257\n",
       "2022-04-01    1.728896\n",
       "2022-05-01    1.506322\n",
       "2022-06-01    0.128324\n",
       "Name: Close, Length: 269, dtype: float64"
      ]
     },
     "execution_count": 44,
     "metadata": {},
     "output_type": "execute_result"
    }
   ],
   "source": [
    "first_diff = close.diff().dropna()\n",
    "first_diff"
   ]
  },
  {
   "cell_type": "code",
   "execution_count": 37,
   "id": "ca5217e6-1a59-4a2d-aaea-6f15bcd17771",
   "metadata": {},
   "outputs": [
    {
     "data": {
      "image/png": "[encoded data removed]",
      "text/plain": [
       "<Figure size 640x480 with 1 Axes>"
      ]
     },
     "metadata": {},
     "output_type": "display_data"
    }
   ],
   "source": [
    "plt.plot(first_diff)\n",
    "plt.title('First Difference Closing Price')\n",
    "for year in range(2000, 2024):\n",
    "    plt.axvline(pd.to_datetime(str(year) + '-01-01'), linestyle = '--', alpha = 0.2)\n",
    "\n",
    "plt.show()"
   ]
  },
  {
   "cell_type": "code",
   "execution_count": 38,
   "id": "91e76c52-fabb-4a41-ae44-d5a7ca7b0a50",
   "metadata": {},
   "outputs": [
    {
     "name": "stdout",
     "output_type": "stream",
     "text": [
      "ADF Statistic: -7.483092080177394\n",
      "p-value: 4.7156746070739e-11\n"
     ]
    }
   ],
   "source": [
    "ad_fuller_test = adfuller(first_diff)\n",
    "print(f\"ADF Statistic: {ad_fuller_test[0]}\")\n",
    "print(f\"p-value: {ad_fuller_test[1]}\")"
   ]
  },
  {
   "cell_type": "markdown",
   "id": "9694b626-f93d-4b2a-b30f-0aaf563f2eae",
   "metadata": {},
   "source": [
    "As you can see from the above graph, our data now seems to have a constant mean. We may question whether it has a constant variance (it seems to be greater before 2010 than after 2010), but in general there is no signficant change. Finally, we don't see any seasonality in our data. These visual perceptions are confirmed by the ADF test, which yielded a p-value very close to 0.\n",
    "\n",
    "We are now ready to determine the parameters for our ARIMA model."
   ]
  },
  {
   "cell_type": "markdown",
   "id": "ffbbb51f-0672-441e-b49d-0d91fb09d864",
   "metadata": {},
   "source": [
    "### Determining Parameters of ARIMA Model"
   ]
  },
  {
   "cell_type": "code",
   "execution_count": 39,
   "id": "04a66f67-130c-4129-80eb-b4bdbab827c5",
   "metadata": {},
   "outputs": [
    {
     "data": {
      "image/png": "[encoded data removed]",
      "text/plain": [
       "<Figure size 640x480 with 1 Axes>"
      ]
     },
     "metadata": {},
     "output_type": "display_data"
    }
   ],
   "source": [
    "ACF = acf(first_diff)\n",
    "plt.bar(range(16), ACF[:16])\n",
    "plt.title(\"ACF of First Difference\")\n",
    "plt.xlabel(\"Lag\")\n",
    "plt.ylabel(\"Correlation\")\n",
    "plt.show()"
   ]
  },
  {
   "cell_type": "markdown",
   "id": "2c621c9f-7dff-42e5-b025-6abe4f0c54ef",
   "metadata": {},
   "source": [
    "There seem to be significant lags at 1 and 5. Because lags 2, 3, and 4 seem to be insignificant, we will first try an ARIMA model with MA(1)."
   ]
  },
  {
   "cell_type": "code",
   "execution_count": 41,
   "id": "a6285178-ceea-41db-b5a0-7cf595fe3d2b",
   "metadata": {},
   "outputs": [
    {
     "data": {
      "image/png": "[encoded data removed]",
      "text/plain": [
       "<Figure size 640x480 with 1 Axes>"
      ]
     },
     "metadata": {},
     "output_type": "display_data"
    }
   ],
   "source": [
    "PACF = pacf(first_diff)\n",
    "plt.bar(range(16), PACF[:16])\n",
    "plt.title(\"PACF of First Difference\")\n",
    "plt.xlabel(\"Lag\")\n",
    "plt.ylabel(\"Correlation\")\n",
    "plt.show()"
   ]
  },
  {
   "cell_type": "markdown",
   "id": "ed0ce980-7b83-4c0b-86b9-dcb9a9f46e17",
   "metadata": {},
   "source": [
    "Similarly, we see strong lags for the PACF at 1 and 5 (and possibly 2). So we will first try an ARIMA model with AR(2)."
   ]
  },
  {
   "cell_type": "markdown",
   "id": "36dbb223-d368-49e4-b416-8276d04dca32",
   "metadata": {},
   "source": [
    "### Training the ARIMA Model"
   ]
  },
  {
   "cell_type": "markdown",
   "id": "0577b47c-5a1e-4a37-b8ba-09ba3340b109",
   "metadata": {},
   "source": [
    "We will train our model up to the end of 2021 and try to predict the oil price for the first 6 months of 2022"
   ]
  },
  {
   "cell_type": "code",
   "execution_count": 59,
   "id": "92472d1c-861d-4e58-bf75-72cdfc47486f",
   "metadata": {},
   "outputs": [],
   "source": [
    "first_diff.index = range(len(first_diff.index))"
   ]
  },
  {
   "cell_type": "code",
   "execution_count": 115,
   "id": "77d36f0e-3b25-4a7b-acb2-3111175cac0f",
   "metadata": {},
   "outputs": [],
   "source": [
    "# train = first_diff[107:239] # Training Data from 2009 to 2020\n",
    "train = first_diff[:239] # Training Data up to 2020\n",
    "test = first_diff[239:264] # Testing Data is all of 2021 and 2022"
   ]
  },
  {
   "cell_type": "code",
   "execution_count": 116,
   "id": "c825de24-e9bc-4adb-a504-9d4ef5ee98bf",
   "metadata": {},
   "outputs": [
    {
     "data": {
      "image/png": "[encoded data removed]",
      "text/plain": [
       "<Figure size 640x480 with 1 Axes>"
      ]
     },
     "metadata": {},
     "output_type": "display_data"
    }
   ],
   "source": [
    "ACF = acf(train)\n",
    "plt.bar(range(16), ACF[:16])\n",
    "plt.title(\"ACF of First Difference\")\n",
    "plt.xlabel(\"Lag\")\n",
    "plt.ylabel(\"Correlation\")\n",
    "plt.show()"
   ]
  },
  {
   "cell_type": "code",
   "execution_count": 117,
   "id": "3204521a-41ed-4453-a002-d7a3af8c6ca5",
   "metadata": {},
   "outputs": [
    {
     "data": {
      "image/png": "[encoded data removed]",
      "text/plain": [
       "<Figure size 640x480 with 1 Axes>"
      ]
     },
     "metadata": {},
     "output_type": "display_data"
    }
   ],
   "source": [
    "PACF = pacf(train)\n",
    "plt.bar(range(16), PACF[:16])\n",
    "plt.title(\"PACF of First Difference\")\n",
    "plt.xlabel(\"Lag\")\n",
    "plt.ylabel(\"Correlation\")\n",
    "plt.show()"
   ]
  },
  {
   "cell_type": "code",
   "execution_count": 118,
   "id": "8a51c6a6-ae0b-4e28-a044-d624d68a3636",
   "metadata": {},
   "outputs": [
    {
     "name": "stderr",
     "output_type": "stream",
     "text": [
      "C:\\Users\\david\\anaconda3\\lib\\site-packages\\statsmodels\\base\\model.py:607: ConvergenceWarning: Maximum Likelihood optimization failed to converge. Check mle_retvals\n",
      "  warnings.warn(\"Maximum Likelihood optimization failed to \"\n"
     ]
    }
   ],
   "source": [
    "model = ARIMA(train, order = (4, 0, 5))\n",
    "model_fit = model.fit()"
   ]
  },
  {
   "cell_type": "code",
   "execution_count": 119,
   "id": "afdd5793-e4d4-4705-b9b3-f56e86920ee1",
   "metadata": {},
   "outputs": [
    {
     "name": "stdout",
     "output_type": "stream",
     "text": [
      "                               SARIMAX Results                                \n",
      "==============================================================================\n",
      "Dep. Variable:                  Close   No. Observations:                  239\n",
      "Model:                 ARIMA(4, 0, 5)   Log Likelihood                -248.495\n",
      "Date:                Thu, 09 May 2024   AIC                            518.989\n",
      "Time:                        09:49:53   BIC                            557.231\n",
      "Sample:                             0   HQIC                           534.400\n",
      "                                - 239                                         \n",
      "Covariance Type:                  opg                                         \n",
      "==============================================================================\n",
      "                 coef    std err          z      P>|z|      [0.025      0.975]\n",
      "------------------------------------------------------------------------------\n",
      "const         -0.0052      0.032     -0.163      0.870      -0.067       0.057\n",
      "ar.L1         -0.1835      0.116     -1.580      0.114      -0.411       0.044\n",
      "ar.L2         -0.0961      0.130     -0.737      0.461      -0.352       0.160\n",
      "ar.L3         -0.0247      0.121     -0.205      0.838      -0.262       0.212\n",
      "ar.L4          0.6652      0.111      5.987      0.000       0.447       0.883\n",
      "ma.L1          0.3328      0.115      2.899      0.004       0.108       0.558\n",
      "ma.L2          0.0619      0.133      0.467      0.640      -0.198       0.322\n",
      "ma.L3         -0.0457      0.119     -0.384      0.701      -0.279       0.188\n",
      "ma.L4         -0.7409      0.112     -6.629      0.000      -0.960      -0.522\n",
      "ma.L5         -0.3317      0.060     -5.549      0.000      -0.449      -0.215\n",
      "sigma2         0.4667      0.027     17.140      0.000       0.413       0.520\n",
      "===================================================================================\n",
      "Ljung-Box (L1) (Q):                   0.00   Jarque-Bera (JB):               524.24\n",
      "Prob(Q):                              0.95   Prob(JB):                         0.00\n",
      "Heteroskedasticity (H):               0.11   Skew:                            -0.11\n",
      "Prob(H) (two-sided):                  0.00   Kurtosis:                        10.25\n",
      "===================================================================================\n",
      "\n",
      "Warnings:\n",
      "[1] Covariance matrix calculated using the outer product of gradients (complex-step).\n"
     ]
    }
   ],
   "source": [
    "print(model_fit.summary())"
   ]
  },
  {
   "cell_type": "code",
   "execution_count": 120,
   "id": "36f1d67c-db92-4475-ac04-6375785b8316",
   "metadata": {},
   "outputs": [],
   "source": [
    "pred = model_fit.predict(start = len(train), end = len(train) + len(test) - 1)\n",
    "pred = pd.DataFrame(pred).reset_index(drop = True)"
   ]
  },
  {
   "cell_type": "code",
   "execution_count": 121,
   "id": "a45f9a2e-ca4a-4f57-b725-b812a55e77fd",
   "metadata": {},
   "outputs": [],
   "source": [
    "test.reset_index(drop = True, inplace = True)"
   ]
  },
  {
   "cell_type": "code",
   "execution_count": 122,
   "id": "2f702ea8-f5e4-449a-ae07-b80189845fc4",
   "metadata": {},
   "outputs": [],
   "source": [
    "result = pd.concat([test, pred], axis = 1)"
   ]
  },
  {
   "cell_type": "code",
   "execution_count": 123,
   "id": "648a28cf-60c7-4fc7-82ae-e217d313d3a5",
   "metadata": {},
   "outputs": [
    {
     "data": {
      "text/html": [
       "<div>\n",
       "<style scoped>\n",
       "    .dataframe tbody tr th:only-of-type {\n",
       "        vertical-align: middle;\n",
       "    }\n",
       "\n",
       "    .dataframe tbody tr th {\n",
       "        vertical-align: top;\n",
       "    }\n",
       "\n",
       "    .dataframe thead th {\n",
       "        text-align: right;\n",
       "    }\n",
       "</style>\n",
       "<table border=\"1\" class=\"dataframe\">\n",
       "  <thead>\n",
       "    <tr style=\"text-align: right;\">\n",
       "      <th></th>\n",
       "      <th>Close</th>\n",
       "      <th>predicted_mean</th>\n",
       "    </tr>\n",
       "  </thead>\n",
       "  <tbody>\n",
       "    <tr>\n",
       "      <th>0</th>\n",
       "      <td>-0.258739</td>\n",
       "      <td>0.027953</td>\n",
       "    </tr>\n",
       "    <tr>\n",
       "      <th>1</th>\n",
       "      <td>-0.176792</td>\n",
       "      <td>0.014268</td>\n",
       "    </tr>\n",
       "    <tr>\n",
       "      <th>2</th>\n",
       "      <td>-0.119152</td>\n",
       "      <td>0.102251</td>\n",
       "    </tr>\n",
       "    <tr>\n",
       "      <th>3</th>\n",
       "      <td>0.028152</td>\n",
       "      <td>-0.117459</td>\n",
       "    </tr>\n",
       "    <tr>\n",
       "      <th>4</th>\n",
       "      <td>0.054758</td>\n",
       "      <td>0.124135</td>\n",
       "    </tr>\n",
       "    <tr>\n",
       "      <th>5</th>\n",
       "      <td>-0.113227</td>\n",
       "      <td>-0.007817</td>\n",
       "    </tr>\n",
       "    <tr>\n",
       "      <th>6</th>\n",
       "      <td>0.063267</td>\n",
       "      <td>0.057131</td>\n",
       "    </tr>\n",
       "    <tr>\n",
       "      <th>7</th>\n",
       "      <td>0.579346</td>\n",
       "      <td>-0.094232</td>\n",
       "    </tr>\n",
       "    <tr>\n",
       "      <th>8</th>\n",
       "      <td>-0.039694</td>\n",
       "      <td>0.091273</td>\n",
       "    </tr>\n",
       "    <tr>\n",
       "      <th>9</th>\n",
       "      <td>0.532445</td>\n",
       "      <td>-0.017595</td>\n",
       "    </tr>\n",
       "    <tr>\n",
       "      <th>10</th>\n",
       "      <td>0.038487</td>\n",
       "      <td>0.031496</td>\n",
       "    </tr>\n",
       "    <tr>\n",
       "      <th>11</th>\n",
       "      <td>-0.290442</td>\n",
       "      <td>-0.072324</td>\n",
       "    </tr>\n",
       "    <tr>\n",
       "      <th>12</th>\n",
       "      <td>0.063489</td>\n",
       "      <td>0.068100</td>\n",
       "    </tr>\n",
       "    <tr>\n",
       "      <th>13</th>\n",
       "      <td>0.282000</td>\n",
       "      <td>-0.021320</td>\n",
       "    </tr>\n",
       "    <tr>\n",
       "      <th>14</th>\n",
       "      <td>-0.307718</td>\n",
       "      <td>0.016812</td>\n",
       "    </tr>\n",
       "    <tr>\n",
       "      <th>15</th>\n",
       "      <td>0.063052</td>\n",
       "      <td>-0.054125</td>\n",
       "    </tr>\n",
       "    <tr>\n",
       "      <th>16</th>\n",
       "      <td>0.282268</td>\n",
       "      <td>0.050850</td>\n",
       "    </tr>\n",
       "    <tr>\n",
       "      <th>17</th>\n",
       "      <td>0.305045</td>\n",
       "      <td>-0.022018</td>\n",
       "    </tr>\n",
       "    <tr>\n",
       "      <th>18</th>\n",
       "      <td>0.537374</td>\n",
       "      <td>0.008381</td>\n",
       "    </tr>\n",
       "    <tr>\n",
       "      <th>19</th>\n",
       "      <td>0.221672</td>\n",
       "      <td>-0.039977</td>\n",
       "    </tr>\n",
       "    <tr>\n",
       "      <th>20</th>\n",
       "      <td>1.048067</td>\n",
       "      <td>0.037607</td>\n",
       "    </tr>\n",
       "    <tr>\n",
       "      <th>21</th>\n",
       "      <td>0.491097</td>\n",
       "      <td>-0.021205</td>\n",
       "    </tr>\n",
       "    <tr>\n",
       "      <th>22</th>\n",
       "      <td>-0.451892</td>\n",
       "      <td>0.003546</td>\n",
       "    </tr>\n",
       "    <tr>\n",
       "      <th>23</th>\n",
       "      <td>-1.254909</td>\n",
       "      <td>-0.029429</td>\n",
       "    </tr>\n",
       "    <tr>\n",
       "      <th>24</th>\n",
       "      <td>0.306091</td>\n",
       "      <td>0.027307</td>\n",
       "    </tr>\n",
       "  </tbody>\n",
       "</table>\n",
       "</div>"
      ],
      "text/plain": [
       "       Close  predicted_mean\n",
       "0  -0.258739        0.027953\n",
       "1  -0.176792        0.014268\n",
       "2  -0.119152        0.102251\n",
       "3   0.028152       -0.117459\n",
       "4   0.054758        0.124135\n",
       "5  -0.113227       -0.007817\n",
       "6   0.063267        0.057131\n",
       "7   0.579346       -0.094232\n",
       "8  -0.039694        0.091273\n",
       "9   0.532445       -0.017595\n",
       "10  0.038487        0.031496\n",
       "11 -0.290442       -0.072324\n",
       "12  0.063489        0.068100\n",
       "13  0.282000       -0.021320\n",
       "14 -0.307718        0.016812\n",
       "15  0.063052       -0.054125\n",
       "16  0.282268        0.050850\n",
       "17  0.305045       -0.022018\n",
       "18  0.537374        0.008381\n",
       "19  0.221672       -0.039977\n",
       "20  1.048067        0.037607\n",
       "21  0.491097       -0.021205\n",
       "22 -0.451892        0.003546\n",
       "23 -1.254909       -0.029429\n",
       "24  0.306091        0.027307"
      ]
     },
     "execution_count": 123,
     "metadata": {},
     "output_type": "execute_result"
    }
   ],
   "source": [
    "result"
   ]
  },
  {
   "cell_type": "code",
   "execution_count": 124,
   "id": "b092b2fc-9bd4-4516-8c5a-013352bb2cf9",
   "metadata": {},
   "outputs": [
    {
     "data": {
      "text/plain": [
       "<Axes: >"
      ]
     },
     "execution_count": 124,
     "metadata": {},
     "output_type": "execute_result"
    },
    {
     "data": {
      "image/png": "[encoded data removed]",
      "text/plain": [
       "<Figure size 640x480 with 1 Axes>"
      ]
     },
     "metadata": {},
     "output_type": "display_data"
    }
   ],
   "source": [
    "result.plot()"
   ]
  },
  {
   "cell_type": "markdown",
   "id": "4e5d958b-637c-44a1-b3c0-95b170d1addd",
   "metadata": {},
   "source": [
    "## Rolling Forecast Origin"
   ]
  },
  {
   "cell_type": "code",
   "execution_count": 31,
   "id": "34e0ba0c-5297-4ee3-b50b-fe2d3340f458",
   "metadata": {},
   "outputs": [
    {
     "data": {
      "text/plain": [
       "Date\n",
       "2000-01-05   -0.008\n",
       "2000-01-06    0.028\n",
       "2000-01-07   -0.023\n",
       "2000-01-10    0.043\n",
       "2000-01-11    0.044\n",
       "              ...  \n",
       "2021-12-31    0.169\n",
       "2022-01-03    0.085\n",
       "2022-01-04   -0.098\n",
       "2022-01-05    0.165\n",
       "2022-01-06   -0.070\n",
       "Name: Close, Length: 5623, dtype: float64"
      ]
     },
     "execution_count": 31,
     "metadata": {},
     "output_type": "execute_result"
    }
   ],
   "source": [
    "first_diff[:test['Date'][3]]"
   ]
  },
  {
   "cell_type": "code",
   "execution_count": 39,
   "id": "5a7bad2c-bce8-4955-8e0f-cfeb8422f700",
   "metadata": {},
   "outputs": [
    {
     "data": {
      "text/plain": [
       "0      -0.008\n",
       "1       0.028\n",
       "2      -0.023\n",
       "3       0.043\n",
       "4       0.044\n",
       "        ...  \n",
       "5736   -0.241\n",
       "5737   -1.420\n",
       "5738    0.231\n",
       "5739    0.044\n",
       "5740   -0.520\n",
       "Name: Close, Length: 5741, dtype: float64"
      ]
     },
     "execution_count": 39,
     "metadata": {},
     "output_type": "execute_result"
    }
   ],
   "source": [
    "first_diff"
   ]
  },
  {
   "cell_type": "code",
   "execution_count": 40,
   "id": "570fc717-4f28-479d-bf10-993610c81f0b",
   "metadata": {},
   "outputs": [
    {
     "name": "stderr",
     "output_type": "stream",
     "text": [
      "C:\\Users\\david\\AppData\\Local\\Temp\\ipykernel_31448\\2656936466.py:1: FutureWarning: The default dtype for empty Series will be 'object' instead of 'float64' in a future version. Specify a dtype explicitly to silence this warning.\n",
      "  predictions = pd.Series()\n",
      "C:\\Users\\david\\anaconda3\\lib\\site-packages\\statsmodels\\base\\model.py:607: ConvergenceWarning: Maximum Likelihood optimization failed to converge. Check mle_retvals\n",
      "  warnings.warn(\"Maximum Likelihood optimization failed to \"\n"
     ]
    },
    {
     "name": "stdout",
     "output_type": "stream",
     "text": [
      "5620    0.009394\n",
      "dtype: float64\n"
     ]
    },
    {
     "name": "stderr",
     "output_type": "stream",
     "text": [
      "C:\\Users\\david\\anaconda3\\lib\\site-packages\\statsmodels\\base\\model.py:607: ConvergenceWarning: Maximum Likelihood optimization failed to converge. Check mle_retvals\n",
      "  warnings.warn(\"Maximum Likelihood optimization failed to \"\n"
     ]
    },
    {
     "name": "stdout",
     "output_type": "stream",
     "text": [
      "5621    0.021127\n",
      "dtype: float64\n"
     ]
    },
    {
     "name": "stderr",
     "output_type": "stream",
     "text": [
      "\n",
      "KeyboardInterrupt\n",
      "\n"
     ]
    }
   ],
   "source": [
    "predictions = pd.Series(dtype = 'float64')\n",
    "\n",
    "for day in range(len(train) + 1, len(first_diff)):\n",
    "    train_data = first_diff[:day - 1]\n",
    "    model = ARIMA(train_data, order = (5, 0, 5))\n",
    "    model_fit = model.fit()\n",
    "    pred = model_fit.predict(day)\n",
    "    print(pred)\n",
    "    predictions.loc[day] = pred.loc[day]"
   ]
  },
  {
   "cell_type": "code",
   "execution_count": null,
   "id": "1c85084f-aaca-4353-ad6a-ce03f360708c",
   "metadata": {},
   "outputs": [],
   "source": []
  },
  {
   "cell_type": "code",
   "execution_count": null,
   "id": "e7cdcde4-1f2d-494c-9652-bcd201d35098",
   "metadata": {},
   "outputs": [],
   "source": []
  }
 ],
 "metadata": {
  "kernelspec": {
   "display_name": "Python 3 (ipykernel)",
   "language": "python",
   "name": "python3"
  },
  "language_info": {
   "codemirror_mode": {
    "name": "ipython",
    "version": 3
   },
   "file_extension": ".py",
   "mimetype": "text/x-python",
   "name": "python",
   "nbconvert_exporter": "python",
   "pygments_lexer": "ipython3",
   "version": "3.9.18"
  }
 },
 "nbformat": 4,
 "nbformat_minor": 5
}
